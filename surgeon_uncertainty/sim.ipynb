{
 "cells": [
  {
   "cell_type": "code",
   "execution_count": 1,
   "metadata": {
    "collapsed": false
   },
   "outputs": [],
   "source": [
    "from pulp import *\n",
    "from lpVirtualOR import LBP\n",
    "from __future__ import division\n",
    "import numpy as np\n",
    "from numpy import random\n",
    "import matplotlib.pyplot as plt\n",
    "from operator import itemgetter\n",
    "from collections import defaultdict\n",
    "from matplotlib.backends.backend_pdf import PdfPages\n",
    "import copy\n",
    "\n",
    "%matplotlib inline"
   ]
  },
  {
   "cell_type": "code",
   "execution_count": 272,
   "metadata": {
    "collapsed": false
   },
   "outputs": [],
   "source": [
    "def sample(amount, bounds):\n",
    "    #Sample Data and creates cases.\n",
    "    cases = {}\n",
    "    case_means = []\n",
    "    total = 1\n",
    "    for n,b in zip(amount,bounds):\n",
    "        for j in range(total,total+n):\n",
    "            cases[j] = defaultdict(int)\n",
    "            cases[j][\"mean\"] = int(np.ceil(sum(b)/2))\n",
    "            cases[j][\"dur\"] = np.random.random_integers(b[0],b[1])\n",
    "            cases[j][\"var\"] = ((b[1] - b[0] + 1)**2 - 1)/12\n",
    "        total += n\n",
    "    return cases\n",
    "    \n",
    "        \n",
    "class Simulation(object):\n",
    "    def __init__(self,cases,order,d = 15 ,rooms = 1, L = 1, T = 12,error = 0):\n",
    "        \"\"\"\n",
    "        oracle - tells how current surgery will last given time already finished\n",
    "        order - the order toself.schedule\n",
    "        d - spacing between the units of time, in minutes\n",
    "        rooms - number of rooms\n",
    "        L - L-step\n",
    "        T - Max amount of time in day in hours\n",
    "        \"\"\"\n",
    "        self.oracle = 0\n",
    "        self.cases = copy.deepcopy(cases)\n",
    "        self.order = copy.deepcopy(order)\n",
    "        self.rooms = rooms\n",
    "        self.L = L\n",
    "        self.d = d\n",
    "        self.schedule = []\n",
    "        self.T_s = int(np.ceil(T*60/d))\n",
    "        self.T = T\n",
    "        self.error = error\n",
    "        \n",
    "    def set_rooms(self,rooms):\n",
    "        self.rooms = rooms\n",
    "        \n",
    "    def set_L(self,L):\n",
    "        self.L = L\n",
    "        \n",
    "    def get_schedule(self):\n",
    "        return self.schedule[:]\n",
    "    \n",
    "    def run(self):\n",
    "        #Initializes \n",
    "        self.schedule = [[] for _ in range(self.rooms)]\n",
    "        cur_cases = [0] * self.rooms #Currently running case per room, index inside ofself.schedule not actual case number\n",
    "        # Packs the first cases in each room\n",
    "        for i in range(self.rooms):\n",
    "            if(not self.order):\n",
    "                break\n",
    "            c = self.order.pop()\n",
    "            data = self.cases[c]\n",
    "            data[\"app\"] = 0\n",
    "            data[\"start\"]  = 0\n",
    "            self.schedule[i].append(c)\n",
    "            cur_cases[i] = c   \n",
    "            last_case = c\n",
    "            while (self.cases[last_case][\"app\"] + self.cases[last_case][\"mean\"] < L and self.order):\n",
    "                c = self.order.pop()\n",
    "                data = self.cases[c]     \n",
    "                data[\"app\"] = self.cases[last_case][\"app\"] + self.cases[last_case][\"mean\"] \n",
    "                self.schedule[i].append(c)\n",
    "                last_case = c #Get Last Case in rooms\n",
    "\n",
    "        #Runs Simulation\n",
    "        n = self.L\n",
    "        while(self.order):\n",
    "            for i in range(self.rooms):\n",
    "                if(not self.schedule[i]):\n",
    "                    continue\n",
    "                cur = cur_cases[i]\n",
    "                t =self.schedule[i].index(cur) #index of current case\n",
    "                #Update current case estimates\n",
    "                if(self.cases[cur][\"start\"] <= n):\n",
    "                    cur_data = self.cases[cur]\n",
    "                    #update end time\n",
    "                    #cur_data[\"end\"] = cur_data[\"start\"] + cur_data[\"dur\"]  \n",
    "                    #update Estimate\n",
    "                    cur_data[\"count\"] += 1\n",
    "                    previous = cur_data[\"estimate\"] * (cur_data[\"count\"] - 1)\n",
    "                    dur = cur_data[\"dur\"]\n",
    "                    cur_data[\"estimate\"] = int((previous + np.random.random_integers(dur - self.error,dur + self.error))/cur_data[\"count\"])\n",
    "                    cur_data[\"end\"] = cur_data[\"start\"] + cur_data[\"dur\"]\n",
    "                    if(cur_data[\"end\"] > n):\n",
    "                        continue\n",
    "                    #update start time of next case\n",
    "                    if(t+1 != len(self.schedule[i])):\n",
    "                        next_c = self.schedule[i][t+1]\n",
    "                        self.cases[next_c][\"start\"] = max(self.cases[next_c][\"app\"],cur_data[\"end\"])   \n",
    "                        if(cur_data[\"end\"] == n-self.L):\n",
    "                            cur_cases[i] = next_c\n",
    "\n",
    "                #Calculates expected end of currentlyself.scheduled cases \n",
    "                expect = 0\n",
    "                if(t+1 != len(self.schedule[i])):\n",
    "                    next_c =self.schedule[i][t+1]\n",
    "                    expect = self.cases[next_c][\"start\"]\n",
    "                    for k in self.schedule[i][t+1:]:\n",
    "                        expect += self.cases[k][\"mean\"]\n",
    "                else:\n",
    "                    expect = self.cases[cur][\"end\"]\n",
    "\n",
    "                #Decides toself.schedule current or not\n",
    "                if(expect <= n and self.order):\n",
    "                    c = self.order.pop()\n",
    "                    self.cases[c][\"app\"] = n\n",
    "                    self.schedule[i].append(c)\n",
    "\n",
    "            #update for next time step\n",
    "            n += 1\n",
    "\n",
    "        #Finish the cases after L-step is overtime\n",
    "        for i in range(self.rooms):\n",
    "            if(not self.schedule[i]):\n",
    "                continue\n",
    "            cur = cur_cases[i]\n",
    "            t = self.schedule[i].index(cur) #index of current case\n",
    "            #Update current case estimates\n",
    "            for k in range(t,len(self.schedule[i])):\n",
    "                cur = self.schedule[i][k]\n",
    "                cur_data = self.cases[cur]\n",
    "                #update end time\n",
    "                cur_data[\"end\"] = cur_data[\"start\"] + cur_data[\"dur\"]\n",
    "                #update start time of next case\n",
    "                if(k+1 != len(self.schedule[i])):\n",
    "                    next_c = self.schedule[i][k+1]\n",
    "                    self.cases[next_c][\"start\"] = max(self.cases[next_c][\"app\"],cur_data[\"end\"])                \n",
    "    \n",
    "    \n",
    "    def calc_cost(self):\n",
    "        \"\"\"\n",
    "        Returns waiting_cost, idle_cost, and overtime ofself.schedule\n",
    "        Outputs in minutes by multiplying with the spacing between samples\n",
    "        \"\"\"\n",
    "        wait = 0\n",
    "        idle = 0\n",
    "        overtime = 0\n",
    "        for r in self.schedule:\n",
    "            if(r):\n",
    "                for i in range(len(r)-1):\n",
    "                    diff = self.cases[r[i+1]][\"app\"] - self.cases[r[i]][\"end\"] \n",
    "                    wait += max(-diff,0)\n",
    "                    idle += max(diff,0)\n",
    "                last = self.cases[r[-1]]\n",
    "                overtime += max(0,last[\"end\"] - self.T_s) \n",
    "        wait *= self.d\n",
    "        idle *= self.d\n",
    "        overtime *= self.d\n",
    "        return wait,idle, overtime"
   ]
  },
  {
   "cell_type": "code",
   "execution_count": 341,
   "metadata": {
    "collapsed": false
   },
   "outputs": [],
   "source": [
    "def create_order(cases,heauristic = \"largest mean\"):\n",
    "    if heauristic == \"largest mean\":\n",
    "        return [j[0] for j in sorted(cases.items(),key= lambda x: (x[1][\"mean\"],x[0]))] \n",
    "    elif heauristic == \"smallest mean\":\n",
    "        return [ j[0] for j in sorted(cases.items(),key= lambda x: (x[1][\"mean\"],x[0]))] [::-1]\n",
    "    elif heauristic == \"random\":\n",
    "        return np.random.permutation([j[0] for j in cases.items()]).tolist()\n",
    "    elif heauristic == \"largest var\":\n",
    "        return [j[0] for j in sorted(cases.items(),key= lambda x: (x[1][\"var\"],x[0]))] \n",
    "    elif heauristic == \"smallest var\":\n",
    "        return [ j[0] for j in sorted(cases.items(),key= lambda x: (x[1][\"var\"],x[0]))] [::-1]"
   ]
  },
  {
   "cell_type": "code",
   "execution_count": 274,
   "metadata": {
    "collapsed": false
   },
   "outputs": [
    {
     "name": "stdout",
     "output_type": "stream",
     "text": [
      "Waiting = 75 units, Idle = 75 units, over = 0\n"
     ]
    }
   ],
   "source": [
    "#Initial Setup\n",
    "T = 12 #Size of schedule in hours\n",
    "rooms_N = 3\n",
    "L = 3\n",
    "\n",
    "cases = sample([10,7,3],bounds = [(1,5),(3,10),(7,13)])\n",
    "sorted_list = create_order(cases,\"largest var\")\n",
    "sim = Simulation(cases,sorted_list,d = 15,L=L,rooms=rooms_N, T = T,error =0 )\n",
    "sim.run()\n",
    "wait, idle, over = sim.calc_cost()\n",
    "print \"Waiting = {0} units, Idle = {1} units, over = {2}\".format(wait,idle,over)"
   ]
  },
  {
   "cell_type": "code",
   "execution_count": 277,
   "metadata": {
    "collapsed": false
   },
   "outputs": [
    {
     "name": "stdout",
     "output_type": "stream",
     "text": [
      "48\n"
     ]
    },
    {
     "data": {
      "image/png": "[encoded data removed]",
      "text/plain": [
       "<matplotlib.figure.Figure at 0x7f6d975a1cd0>"
      ]
     },
     "metadata": {},
     "output_type": "display_data"
    },
    {
     "data": {
      "image/png": "[encoded data removed]",
      "text/plain": [
       "<matplotlib.figure.Figure at 0x7f6d975d2650>"
      ]
     },
     "metadata": {},
     "output_type": "display_data"
    },
    {
     "data": {
      "image/png": "[encoded data removed]",
      "text/plain": [
       "<matplotlib.figure.Figure at 0x7f6d9542b790>"
      ]
     },
     "metadata": {},
     "output_type": "display_data"
    }
   ],
   "source": [
    "#Plotting Rooms\n",
    "print sim.T_s\n",
    "rooms = sim.schedule\n",
    "for room in rooms:\n",
    "    width, height = plt.figaspect(0.2)\n",
    "    plt.figure(figsize=(width,height))\n",
    "    for k in room:\n",
    "        l = range(sim.cases[k][\"start\"],sim.cases[k][\"end\"])\n",
    "        markerline, stemlines, baseline = plt.stem(l, np.ones(len(l)))\n",
    "        c = color = np.random.rand(3,1)\n",
    "        plt.setp(stemlines, linewidth=2, color=c)     # set stems to random colors\n",
    "        plt.setp(markerline, 'markerfacecolor', 'b')"
   ]
  },
  {
   "cell_type": "code",
   "execution_count": 342,
   "metadata": {
    "collapsed": false
   },
   "outputs": [],
   "source": [
    "T = 12 #Size of schedule in hours\n",
    "L_range = np.r_[2:300//15:2]\n",
    "N = [100,70,30] #Number of cases to schedule per types\n",
    "Total = np.sum(N) #Total number of Cases\n",
    "rooms_N = 10\n",
    "error = 1\n",
    "\n",
    "runs = 100\n",
    "costs_L = np.zeros((len(L_range),3))\n",
    "costs_S = np.zeros((len(L_range),3))\n",
    "costs_R = np.zeros((len(L_range),3))\n",
    "costs_Lv = np.zeros((len(L_range),3))\n",
    "costs_Sv = np.zeros((len(L_range),3))\n",
    "\n",
    "for i in range(len(L_range)):\n",
    "    L = L_range[i]\n",
    "    #Large\n",
    "    for _ in range(runs):\n",
    "        cases = sample(N,bounds = [(1,5),(3,10),(7,13)])\n",
    "        \n",
    "        sorted_list = create_order(cases,\"largest mean\")\n",
    "        sim = Simulation(cases,sorted_list,d = 15,L=L,rooms=rooms_N, T = T )\n",
    "        sim.run()\n",
    "        costs_L[i] += sim.calc_cost()\n",
    "        \n",
    "        # Small\n",
    "        sorted_list = create_order(cases,\"smallest mean\")\n",
    "        sim = Simulation(cases,sorted_list,d = 15,L=L,rooms=rooms_N, T = T )\n",
    "        sim.run()\n",
    "        costs_S[i] += sim.calc_cost()\n",
    "        \n",
    "        # Random\n",
    "        sorted_list = create_order(cases,\"random\")\n",
    "        sim = Simulation(cases,sorted_list,d = 15,L=L,rooms=rooms_N, T = T )\n",
    "        sim.run()\n",
    "        costs_R[i] += sim.calc_cost()\n",
    "\n",
    "        #Largest Var\n",
    "        sorted_list = create_order(cases,\"largest var\")\n",
    "        sim = Simulation(cases,sorted_list,d = 15,L=L,rooms=rooms_N, T = T )\n",
    "        sim.run()\n",
    "        costs_Lv[i] += sim.calc_cost()\n",
    "        \n",
    "        # Smallest Var\n",
    "        sorted_list = create_order(cases,\"smallest var\")\n",
    "        sim = Simulation(cases,sorted_list,d = 15,L=L,rooms=rooms_N, T = T )\n",
    "        sim.run()\n",
    "        costs_Sv[i] += sim.calc_cost()\n",
    "        \n",
    "costs_L /= runs * Total\n",
    "costs_S /= runs * Total\n",
    "costs_R /= runs * Total\n",
    "costs_Lv /= runs * Total\n",
    "costs_Sv /= runs * Total\n"
   ]
  },
  {
   "cell_type": "code",
   "execution_count": 343,
   "metadata": {
    "collapsed": true
   },
   "outputs": [],
   "source": [
    "#Make PDF\n",
    "pp = PdfPages(\"results.pdf\")"
   ]
  },
  {
   "cell_type": "code",
   "execution_count": 344,
   "metadata": {
    "collapsed": false
   },
   "outputs": [
    {
     "data": {
      "image/png": "[encoded data removed]",
      "text/plain": [
       "<matplotlib.figure.Figure at 0x7f6d8fd6f090>"
      ]
     },
     "metadata": {},
     "output_type": "display_data"
    }
   ],
   "source": [
    "#Waiting time\n",
    "width, height = plt.figaspect(0.4)\n",
    "fig, ax = plt.subplots()\n",
    "fig.set_figwidth(width)\n",
    "fig.set_figheight(height)\n",
    "\n",
    "\n",
    "ind = np.arange(len(L_range))  # the x locations for the groups\n",
    "width = 0.1       # the width of the bars\n",
    "\n",
    "large_m = ax.bar(ind, costs_L[:,0], width, color='r')\n",
    "small_m = ax.bar(ind + width, costs_S[:,0], width, color='y')\n",
    "random = ax.bar(ind + 2*width, costs_R[:,0], width, color='b')\n",
    "large_v = ax.bar(ind + 3*width, costs_Lv[:,0], width, color='g')\n",
    "small_v = ax.bar(ind + 4*width, costs_Sv[:,0], width, color='k')\n",
    "\n",
    "# add some text for labels, title and axes ticks\n",
    "ax.set_xlabel('L-steps')\n",
    "ax.set_ylabel('Average waiting time in minutes')\n",
    "ax.set_title('Wait time Comparisons')\n",
    "ax.set_xticks(ind + width)\n",
    "ax.set_xticklabels(L_range)\n",
    "ax.set_position([0.1,0.1,0.5,0.8])\n",
    "\n",
    "ax.legend((large_m[0], small_m[0], random[0],large_v[0], small_v[0]), ('Largest mean', 'Smallest mean',\"Random\", \"Large var\",\"Small Var\"),bbox_to_anchor=(1.5, 1))\n",
    "\n",
    "pp.savefig()"
   ]
  },
  {
   "cell_type": "code",
   "execution_count": 345,
   "metadata": {
    "collapsed": false
   },
   "outputs": [
    {
     "data": {
      "image/png": "[encoded data removed]",
      "text/plain": [
       "<matplotlib.figure.Figure at 0x7f6d8f6b0c90>"
      ]
     },
     "metadata": {},
     "output_type": "display_data"
    }
   ],
   "source": [
    "#Idle time\n",
    "width, height = plt.figaspect(0.4)\n",
    "fig, ax = plt.subplots()\n",
    "fig.set_figwidth(width)\n",
    "fig.set_figheight(height)\n",
    "\n",
    "ind = np.arange(len(L_range))  # the x locations for the groups\n",
    "width = 0.1       # the width of the bars\n",
    "\n",
    "large_m = ax.bar(ind, costs_L[:,1], width, color='r')\n",
    "small_m = ax.bar(ind + width, costs_S[:,1], width, color='y')\n",
    "random = ax.bar(ind + 2*width, costs_R[:,1], width, color='b')\n",
    "large_v = ax.bar(ind + 3*width, costs_Lv[:,1], width, color='g')\n",
    "small_v = ax.bar(ind + 4*width, costs_Sv[:,1], width, color='k')\n",
    "\n",
    "# add some text for labels, title and axes ticks\n",
    "ax.set_xlabel('L-steps')\n",
    "ax.set_ylabel('Average idle time in minutes')\n",
    "ax.set_title('Idle time Comparisons')\n",
    "ax.set_xticks(ind + width)\n",
    "ax.set_xticklabels(L_range)\n",
    "ax.set_position([0.1,0.1,0.5,0.8])\n",
    "\n",
    "ax.legend((large_m[0], small_m[0], random[0],large_v[0], small_v[0]), ('Largest mean', 'Smallest mean',\"Random\", \"Large var\",\"Small Var\"),bbox_to_anchor=(1.5, 1))\n",
    "\n",
    "pp.savefig()"
   ]
  },
  {
   "cell_type": "code",
   "execution_count": 346,
   "metadata": {
    "collapsed": false
   },
   "outputs": [
    {
     "data": {
      "image/png": "[encoded data removed]",
      "text/plain": [
       "<matplotlib.figure.Figure at 0x7f6d8eeb2850>"
      ]
     },
     "metadata": {},
     "output_type": "display_data"
    }
   ],
   "source": [
    "#Overtime time\n",
    "width, height = plt.figaspect(0.4)\n",
    "fig, ax = plt.subplots()\n",
    "fig.set_figwidth(width)\n",
    "fig.set_figheight(height)\n",
    "\n",
    "ind = np.arange(len(L_range))  # the x locations for the groups\n",
    "width = 0.1       # the width of the bars\n",
    "\n",
    "large_m = ax.bar(ind, costs_L[:,2], width, color='r')\n",
    "small_m = ax.bar(ind + width, costs_S[:,2], width, color='y')\n",
    "random = ax.bar(ind + 2*width, costs_R[:,2], width, color='b')\n",
    "large_v = ax.bar(ind + 3*width, costs_Lv[:,2], width, color='g')\n",
    "small_v = ax.bar(ind + 4*width, costs_Sv[:,2], width, color='k')\n",
    "\n",
    "# add some text for labels, title and axes ticks\n",
    "ax.set_xlabel('L-steps')\n",
    "ax.set_ylabel('Average overtime in minutes')\n",
    "ax.set_title(' Overtime Comparisons')\n",
    "ax.set_xticks(ind + width)\n",
    "ax.set_xticklabels(L_range)\n",
    "ax.set_position([0.1,0.1,0.5,0.8])\n",
    "\n",
    "ax.legend((large_m[0], small_m[0], random[0],large_v[0], small_v[0]), ('Largest mean', 'Smallest mean',\"Random\", \"Large var\",\"Small Var\"),bbox_to_anchor=(1.5, 1))\n",
    "\n",
    "pp.savefig()"
   ]
  },
  {
   "cell_type": "code",
   "execution_count": 347,
   "metadata": {
    "collapsed": true
   },
   "outputs": [],
   "source": [
    "pp.close()"
   ]
  },
  {
   "cell_type": "code",
   "execution_count": null,
   "metadata": {
    "collapsed": true
   },
   "outputs": [],
   "source": []
  }
 ],
 "metadata": {
  "kernelspec": {
   "display_name": "Python 2",
   "language": "python",
   "name": "python2"
  },
  "language_info": {
   "codemirror_mode": {
    "name": "ipython",
    "version": 2
   },
   "file_extension": ".py",
   "mimetype": "text/x-python",
   "name": "python",
   "nbconvert_exporter": "python",
   "pygments_lexer": "ipython2",
   "version": "2.7.11"
  }
 },
 "nbformat": 4,
 "nbformat_minor": 0
}
